{
 "cells": [
  {
   "cell_type": "code",
   "execution_count": 2,
   "metadata": {
    "collapsed": true
   },
   "outputs": [],
   "source": [
    "from mixpanel import Mixpanel\n",
    "import os"
   ]
  },
  {
   "cell_type": "code",
   "execution_count": 16,
   "metadata": {
    "collapsed": false
   },
   "outputs": [],
   "source": [
    "mx = Mixpanel(os.environ.get('MIXPANEL_LL_SECRET_KEY'))"
   ]
  },
  {
   "cell_type": "code",
   "execution_count": 36,
   "metadata": {
    "collapsed": false
   },
   "outputs": [
    {
     "data": {
      "text/plain": [
       "{u'data': {u'series': [u'2016-09-12'],\n",
       "  u'values': {u'Loaded a Page': {u'2016-09-05': 273, u'2016-09-12': 66}}},\n",
       " u'legend_size': 1}"
      ]
     },
     "execution_count": 36,
     "metadata": {},
     "output_type": "execute_result"
    }
   ],
   "source": [
    "methods = ['events']\n",
    "\n",
    "general_params = { \n",
    "    'event': ['Loaded a Page'], \n",
    "    'type': 'general', \n",
    "    'unit': 'week', \n",
    "    'interval': 1\n",
    "}\n",
    " \n",
    "mx.request(methods, general_params)"
   ]
  },
  {
   "cell_type": "code",
   "execution_count": 37,
   "metadata": {
    "collapsed": false
   },
   "outputs": [
    {
     "data": {
      "text/plain": [
       "{u'data': {u'series': [u'2016-09-12'],\n",
       "  u'values': {u'Loaded a Page': {u'2016-09-05': 131, u'2016-09-12': 34}}},\n",
       " u'legend_size': 1}"
      ]
     },
     "execution_count": 37,
     "metadata": {},
     "output_type": "execute_result"
    }
   ],
   "source": [
    "unique_params = {\n",
    "    'event': ['Loaded a Page'],\n",
    "    'type': 'unique',\n",
    "    'unit': 'week',\n",
    "    'interval': 1\n",
    "}\n",
    "mx.request(methods, unique_params)"
   ]
  },
  {
   "cell_type": "code",
   "execution_count": null,
   "metadata": {
    "collapsed": true
   },
   "outputs": [],
   "source": [
    "# def calculate_average_unique_visits():\n",
    "#     mx.request(methods, general_params)['']"
   ]
  }
 ],
 "metadata": {
  "kernelspec": {
   "display_name": "Python 2",
   "language": "python",
   "name": "python2"
  },
  "language_info": {
   "codemirror_mode": {
    "name": "ipython",
    "version": 2
   },
   "file_extension": ".py",
   "mimetype": "text/x-python",
   "name": "python",
   "nbconvert_exporter": "python",
   "pygments_lexer": "ipython2",
   "version": "2.7.11"
  }
 },
 "nbformat": 4,
 "nbformat_minor": 0
}
